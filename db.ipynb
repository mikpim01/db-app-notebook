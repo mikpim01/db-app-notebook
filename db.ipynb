{
 "cells": [
  {
   "cell_type": "markdown",
   "metadata": {},
   "source": [
    "# db.ipynb library module\n",
    "\n",
    "### Provide sqlite database functionality for a front-end application.\n",
    "\n",
    "**Code repository: [https://github.com/zero2cx/db-app-notebook](https://github.com/zero2cx/db-app-notebook)**\n",
    "\n",
    "**Developer: [David Schenck](https://github.com/zero2cx/)**\n",
    "\n",
    "**Part of [Building a Desktop Database Application](./Building a Desktop Database Application.ipynb)**\n",
    "\n",
    "**App 5 - [The Python Mega Course](https://www.udemy.com/the-python-mega-course/) (Course Creator & Facilitator: [Ardit Sulce](http://pythonhow.com/author))**\n",
    "\n",
    "Note: Python 3.6 or higher is required to execute this notebook application."
   ]
  },
  {
   "cell_type": "code",
   "execution_count": 1,
   "metadata": {},
   "outputs": [],
   "source": [
    "%reload_ext autoreload\n",
    "%autoreload 2"
   ]
  },
  {
   "cell_type": "code",
   "execution_count": 2,
   "metadata": {},
   "outputs": [],
   "source": [
    "import sqlite3"
   ]
  },
  {
   "cell_type": "markdown",
   "metadata": {},
   "source": [
    "### Class definiton: Database class\n",
    "\n",
    "Open a connection to an existing database file, or instead create an empty database and connect to that.\n",
    "\n",
    "Upon instantiation, keyword arguments are interpreted as the column names and data types for an Sqlite database table. If the table does not exist, then a new table is created. The database table's name mirrors the database's name."
   ]
  },
  {
   "cell_type": "code",
   "execution_count": 3,
   "metadata": {},
   "outputs": [],
   "source": [
    "class Database():\n",
    "\n",
    "    def __init__(self, path, name, **kwargs):\n",
    "        self.file = f'{path}/{name}.db'\n",
    "        self.table = name\n",
    "        self.columns = 1\n",
    "        self.conn = sqlite3.connect(database=self.file)\n",
    "        self.curs = self.conn.cursor()\n",
    "        if kwargs:\n",
    "            sql = f'CREATE TABLE IF NOT EXISTS {self.table} (id INTEGER PRIMARY KEY'\n",
    "            for key in kwargs:\n",
    "                self.columns += 1\n",
    "                sql += f', {key.lower()} {kwargs[key]}'\n",
    "            sql += ')'\n",
    "            print(sql)\n",
    "            self.curs.execute(sql)\n",
    "            self.conn.commit()\n",
    "\n",
    "    def __del__(self):\n",
    "        '''\n",
    "        To be executed upon destruction of the database instance.\n",
    "        '''\n",
    "        self.close()\n",
    "        \n",
    "    def to_html(self, head=False):\n",
    "        '''\n",
    "        Return a representation of the database as html-table elements.\n",
    "        '''\n",
    "        html = '<table>'\n",
    "        if head:\n",
    "            html = f'{html}<tr>'\n",
    "            headers = self.get_column_names(True)\n",
    "            for i in range(len(headers)):\n",
    "                html = f'{html}<th>{headers[i]}</th>'\n",
    "            html = f'{html}</tr>'\n",
    "        for row in self.get_all_records():\n",
    "            html = f'{html}<tr>'\n",
    "            for i in range(len(row)):\n",
    "                html = f'{html}<td>{row[i]}</td>'\n",
    "            html = f'{html}</tr>'\n",
    "        html = f'{html}</table>'\n",
    "        return html\n",
    "            \n",
    "    def get_column_names(self, pkey=False):\n",
    "        '''\n",
    "        Return a list of the table's column names.\n",
    "        \n",
    "        The table's primary key is not returned, by default. When parameter\n",
    "        pkey is True, the primary key is returned as well.\n",
    "        '''\n",
    "        sql = f'PRAGMA table_info({self.table})'\n",
    "        columns = self.curs.execute(sql).fetchall()\n",
    "        names = []\n",
    "        for i in range(len(columns)):\n",
    "            if pkey == False and columns[i][0] == 0:\n",
    "                continue\n",
    "            names.append(columns[i][1])\n",
    "        return names\n",
    "\n",
    "    def get_column_types(self, pkey=False):\n",
    "        '''\n",
    "        Return a list of the table's column data-types.\n",
    "        \n",
    "        The table's primary key is not returned, by default. When parameter\n",
    "        pkey is True, the primary key is returned as well.\n",
    "        '''\n",
    "        sql = f'PRAGMA table_info({self.table})'\n",
    "        columns = self.curs.execute(sql).fetchall()\n",
    "        types = []\n",
    "        for i in range(len(columns)):\n",
    "            if pkey == False and columns[i][0] == 0:\n",
    "                continue\n",
    "            types.append(columns[i][2])\n",
    "        return types\n",
    "\n",
    "    def get_all_records(self):\n",
    "        '''\n",
    "        Return a list of all table records.\n",
    "        '''\n",
    "        sql = f'SELECT * FROM {self.table}'\n",
    "        print(sql)\n",
    "        return self.curs.execute(sql).fetchall()\n",
    "\n",
    "    def get_records(self, **kwargs):\n",
    "        '''\n",
    "        Return a list of the database records that match criteria.\n",
    "        '''\n",
    "        sql = f'SELECT * FROM {self.table} WHERE'\n",
    "        for key in kwargs:\n",
    "            if not kwargs[key]:\n",
    "                continue\n",
    "            sql += f' {key}=\"{kwargs[key]}\" AND'\n",
    "        sql = sql[:-4]\n",
    "        print(sql)\n",
    "        return self.curs.execute(sql).fetchall()\n",
    "\n",
    "    def add_record(self, record):\n",
    "        '''\n",
    "        Add a new database record.\n",
    "        '''\n",
    "        sql = f'INSERT INTO {self.table} VALUES (NULL'\n",
    "        for field in record:\n",
    "            sql += f', \"{field}\"'\n",
    "        sql += ')'\n",
    "        print(sql)\n",
    "        self.curs.execute(sql)\n",
    "        self.conn.commit()\n",
    "\n",
    "    def delete_record(self, id):\n",
    "        '''\n",
    "        Delete the database record that corresponds with the passed 'id'.\n",
    "        '''\n",
    "        sql = f'DELETE FROM {self.table} WHERE id={id}'\n",
    "        print(sql)\n",
    "        self.curs.execute(sql)\n",
    "        self.conn.commit()\n",
    "\n",
    "    def update_record(self, id, **kwargs):\n",
    "        '''\n",
    "        Update the database record that corresponds with the passed 'id'.\n",
    "        '''\n",
    "        sql = f'UPDATE {self.table} SET ('\n",
    "        for key in kwargs:\n",
    "            sql += f'{key}, '\n",
    "        sql = sql[:-2]\n",
    "        sql += ') = ('\n",
    "        for key in kwargs:\n",
    "            sql += f'\"{kwargs[key]}\", '\n",
    "        sql = sql[:-2]\n",
    "        sql += f') WHERE id={id}'\n",
    "        print(sql)\n",
    "        self.curs.execute(sql)\n",
    "        self.conn.commit()\n",
    "\n",
    "    def close(self):\n",
    "        '''\n",
    "        Close the connection to the database.\n",
    "        '''\n",
    "        self.conn.close()\n",
    "\n",
    "### TODO: add the capacity to create and administer multiple tables."
   ]
  },
  {
   "cell_type": "markdown",
   "metadata": {},
   "source": [
    "### Example usage: Database and table creation.\n",
    "\n",
    "Sqlite queries are automatically printed to the console.\n",
    "\n",
    "The dictionary 'inventory' contains details of column-names and -types.\n"
   ]
  },
  {
   "cell_type": "code",
   "execution_count": 4,
   "metadata": {
    "scrolled": true
   },
   "outputs": [
    {
     "name": "stdout",
     "output_type": "stream",
     "text": [
      "CREATE TABLE IF NOT EXISTS inventory (id INTEGER PRIMARY KEY, shelf_item TEXT, unit_price REAL, count INTEGER, restock INTEGER)\n"
     ]
    },
    {
     "data": {
      "text/html": [
       "<strong>The result:</strong>"
      ],
      "text/plain": [
       "<IPython.core.display.HTML object>"
      ]
     },
     "metadata": {},
     "output_type": "display_data"
    },
    {
     "name": "stdout",
     "output_type": "stream",
     "text": [
      "table columns: [('id', 'INTEGER'), ('shelf_item', 'TEXT'), ('unit_price', 'REAL'), ('count', 'INTEGER'), ('restock', 'INTEGER')]\n"
     ]
    }
   ],
   "source": [
    "from IPython.display import HTML\n",
    "\n",
    "!rm -f ./data/inventory.db\n",
    "\n",
    "inventory = {'shelf_item': 'TEXT', 'unit_price': 'REAL', 'count': 'INTEGER', 'restock': 'INTEGER'}\n",
    "\n",
    "db = Database(path='./data', name='inventory', **inventory)\n",
    "\n",
    "# For display purposes here, the resulting table's column-names and -types are represented as a list of 2-tuple pairs.\n",
    "display(HTML('<strong>The result:</strong>'))\n",
    "print(f'table columns: {list(zip(db.get_column_names(True), db.get_column_types(True)))}')"
   ]
  },
  {
   "cell_type": "markdown",
   "metadata": {},
   "source": [
    "### Example usage: Add some records to the database table.\n",
    "\n",
    "Sqlite queries are automatically printed to the console.\n",
    "\n",
    "The example data represents four grocery-store shelf items in a list of lists."
   ]
  },
  {
   "cell_type": "code",
   "execution_count": 5,
   "metadata": {
    "scrolled": true
   },
   "outputs": [
    {
     "name": "stdout",
     "output_type": "stream",
     "text": [
      "INSERT INTO inventory VALUES (NULL, \"Canned Pears\", \"1.39\", \"4\", \"2\")\n",
      "INSERT INTO inventory VALUES (NULL, \"Lollipop\", \"0.45\", \"15\", \"6\")\n",
      "INSERT INTO inventory VALUES (NULL, \"Toothbrush\", \"2.89\", \"6\", \"8\")\n",
      "INSERT INTO inventory VALUES (NULL, \"ShamWow!\", \"12.99\", \"3\", \"3\")\n"
     ]
    },
    {
     "data": {
      "text/html": [
       "<strong>The result:</strong>"
      ],
      "text/plain": [
       "<IPython.core.display.HTML object>"
      ]
     },
     "metadata": {},
     "output_type": "display_data"
    },
    {
     "name": "stdout",
     "output_type": "stream",
     "text": [
      "SELECT * FROM inventory\n"
     ]
    },
    {
     "data": {
      "text/html": [
       "<table><tr><th>id</th><th>shelf_item</th><th>unit_price</th><th>count</th><th>restock</th></tr><tr><td>1</td><td>Canned Pears</td><td>1.39</td><td>4</td><td>2</td></tr><tr><td>2</td><td>Lollipop</td><td>0.45</td><td>15</td><td>6</td></tr><tr><td>3</td><td>Toothbrush</td><td>2.89</td><td>6</td><td>8</td></tr><tr><td>4</td><td>ShamWow!</td><td>12.99</td><td>3</td><td>3</td></tr></table>"
      ],
      "text/plain": [
       "<IPython.core.display.HTML object>"
      ]
     },
     "metadata": {},
     "output_type": "display_data"
    }
   ],
   "source": [
    "from IPython.display import HTML\n",
    "\n",
    "items = [\n",
    "    ['Canned Pears', 1.39, 4, 2],\n",
    "    ['Lollipop', 0.45, 15, 6],\n",
    "    ['Toothbrush', 2.89, 6, 8],\n",
    "    ['ShamWow!', 12.99, 3, 3]\n",
    "]\n",
    "\n",
    "for item in items:\n",
    "    db.add_record(record=item)\n",
    "\n",
    "display(HTML('<strong>The result:</strong>'))\n",
    "display(HTML(db.to_html(True)))"
   ]
  },
  {
   "cell_type": "markdown",
   "metadata": {},
   "source": [
    "### Example usage: Delete a record from the database table.\n",
    "\n",
    "Sqlite queries are automatically printed to the console."
   ]
  },
  {
   "cell_type": "code",
   "execution_count": 6,
   "metadata": {
    "scrolled": true
   },
   "outputs": [
    {
     "name": "stdout",
     "output_type": "stream",
     "text": [
      "DELETE FROM inventory WHERE id=3\n"
     ]
    },
    {
     "data": {
      "text/html": [
       "<strong>The result:</strong>"
      ],
      "text/plain": [
       "<IPython.core.display.HTML object>"
      ]
     },
     "metadata": {},
     "output_type": "display_data"
    },
    {
     "name": "stdout",
     "output_type": "stream",
     "text": [
      "SELECT * FROM inventory\n"
     ]
    },
    {
     "data": {
      "text/html": [
       "<table><tr><th>id</th><th>shelf_item</th><th>unit_price</th><th>count</th><th>restock</th></tr><tr><td>1</td><td>Canned Pears</td><td>1.39</td><td>4</td><td>2</td></tr><tr><td>2</td><td>Lollipop</td><td>0.45</td><td>15</td><td>6</td></tr><tr><td>4</td><td>ShamWow!</td><td>12.99</td><td>3</td><td>3</td></tr></table>"
      ],
      "text/plain": [
       "<IPython.core.display.HTML object>"
      ]
     },
     "metadata": {},
     "output_type": "display_data"
    }
   ],
   "source": [
    "from IPython.display import HTML\n",
    "\n",
    "# Toothbrushes are off the menu.\n",
    "db.delete_record(id=3)\n",
    "\n",
    "display(HTML('<strong>The result:</strong>'))\n",
    "display(HTML(db.to_html(True)))"
   ]
  },
  {
   "cell_type": "markdown",
   "metadata": {},
   "source": [
    "### Example usage: Update a record in the database table.\n",
    "\n",
    "Sqlite queries are automatically printed to the console."
   ]
  },
  {
   "cell_type": "code",
   "execution_count": 7,
   "metadata": {},
   "outputs": [
    {
     "name": "stdout",
     "output_type": "stream",
     "text": [
      "UPDATE inventory SET (count) = (\"9\") WHERE id=4\n"
     ]
    },
    {
     "data": {
      "text/html": [
       "<strong>The result:</strong>"
      ],
      "text/plain": [
       "<IPython.core.display.HTML object>"
      ]
     },
     "metadata": {},
     "output_type": "display_data"
    },
    {
     "name": "stdout",
     "output_type": "stream",
     "text": [
      "SELECT * FROM inventory\n"
     ]
    },
    {
     "data": {
      "text/html": [
       "<table><tr><th>id</th><th>shelf_item</th><th>unit_price</th><th>count</th><th>restock</th></tr><tr><td>1</td><td>Canned Pears</td><td>1.39</td><td>4</td><td>2</td></tr><tr><td>2</td><td>Lollipop</td><td>0.45</td><td>15</td><td>6</td></tr><tr><td>4</td><td>ShamWow!</td><td>12.99</td><td>9</td><td>3</td></tr></table>"
      ],
      "text/plain": [
       "<IPython.core.display.HTML object>"
      ]
     },
     "metadata": {},
     "output_type": "display_data"
    }
   ],
   "source": [
    "from IPython.display import HTML\n",
    "\n",
    "# Six new ShamWows! just arrived, so change the count.\n",
    "db.update_record(id=4, **{'count': '9'})\n",
    "\n",
    "display(HTML('<strong>The result:</strong>'))\n",
    "display(HTML(db.to_html(True)))"
   ]
  },
  {
   "cell_type": "markdown",
   "metadata": {},
   "source": [
    "### Example usage: Close the connection to the database."
   ]
  },
  {
   "cell_type": "code",
   "execution_count": 8,
   "metadata": {},
   "outputs": [],
   "source": [
    "# Do this.\n",
    "db.close()\n",
    "\n",
    "# Or this.\n",
    "db = None"
   ]
  },
  {
   "cell_type": "markdown",
   "metadata": {},
   "source": [
    "### Information about this notebook:"
   ]
  },
  {
   "cell_type": "code",
   "execution_count": 9,
   "metadata": {},
   "outputs": [
    {
     "name": "stdout",
     "output_type": "stream",
     "text": [
      "Additional notebooks in this application (click to open in a new tab):\n"
     ]
    },
    {
     "data": {
      "text/html": [
       "<a href='Building a Desktop Database Application.ipynb' target='_blank'>Building a Desktop Database Application.ipynb</a><br>"
      ],
      "text/plain": [
       "/home/zero2cx/projects/the-python-mega-course/App5/Building a Desktop Database Application.ipynb"
      ]
     },
     "metadata": {},
     "output_type": "display_data"
    },
    {
     "data": {
      "text/html": [
       "<a href='seed.ipynb' target='_blank'>seed.ipynb</a><br>"
      ],
      "text/plain": [
       "/home/zero2cx/projects/the-python-mega-course/App5/seed.ipynb"
      ]
     },
     "metadata": {},
     "output_type": "display_data"
    }
   ],
   "source": [
    "from IPython.display import FileLink\n",
    "\n",
    "print('Additional notebooks in this application (click to open in a new tab):')\n",
    "display(FileLink('Building a Desktop Database Application.ipynb'))\n",
    "display(FileLink('seed.ipynb'))\n",
    "\n",
    "license = '''\n",
    "This software is licensed under the Gnu GPLv3\n",
    "(c) 2017 David Schenck https://github.com/zero2cx/\n",
    "\n",
    "This program is free software: you can redistribute it and/or modify\n",
    "it under the terms of the GNU General Public License as published by\n",
    "the Free Software Foundation, either version 3 of the License, or\n",
    "(at your option) any later version.\n",
    "\n",
    "This program is distributed in the hope that it will be useful,\n",
    "but WITHOUT ANY WARRANTY; without even the implied warranty of\n",
    "MERCHANTABILITY or FITNESS FOR A PARTICULAR PURPOSE.  See the\n",
    "GNU General Public License for more details.\n",
    "\n",
    "You should have received a copy of the GNU General Public License\n",
    "along with this program.  If not, see <https://www.gnu.org/licenses/>.\n",
    "'''"
   ]
  }
 ],
 "metadata": {
  "kernelspec": {
   "display_name": "Python 3",
   "language": "python",
   "name": "python3"
  },
  "language_info": {
   "codemirror_mode": {
    "name": "ipython",
    "version": 3
   },
   "file_extension": ".py",
   "mimetype": "text/x-python",
   "name": "python",
   "nbconvert_exporter": "python",
   "pygments_lexer": "ipython3",
   "version": "3.6.4"
  }
 },
 "nbformat": 4,
 "nbformat_minor": 2
}
