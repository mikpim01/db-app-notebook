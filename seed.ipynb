{
 "cells": [
  {
   "cell_type": "markdown",
   "metadata": {},
   "source": [
    "# seed.ipynb library module\n",
    "\n",
    "### Parse a csv-formatted file to seed an Sqlite database table.\n",
    "\n",
    "**Part of [Building a Desktop Database Application](./Building a Desktop Database Application.ipynb)**\n",
    "\n",
    "**Developer: [David Schenck](https://github.com/zero2cx/)**\n",
    "\n",
    "**App 5 - [The Python Mega Course](https://www.udemy.com/the-python-mega-course/) (Course Creator & Facilitator: [Ardit Sulce](http://pythonhow.com/author))**\n",
    "\n",
    "Note: Python 3.6 or higher is required to execute this notebook application."
   ]
  },
  {
   "cell_type": "code",
   "execution_count": 1,
   "metadata": {},
   "outputs": [],
   "source": [
    "%reload_ext autoreload\n",
    "%autoreload 2"
   ]
  },
  {
   "cell_type": "code",
   "execution_count": 2,
   "metadata": {},
   "outputs": [],
   "source": [
    "import os\n",
    "import csv"
   ]
  },
  {
   "cell_type": "markdown",
   "metadata": {},
   "source": [
    "Import the notebook that contains the **Database** class."
   ]
  },
  {
   "cell_type": "code",
   "execution_count": 3,
   "metadata": {},
   "outputs": [],
   "source": [
    "%%capture\n",
    "%run db.ipynb"
   ]
  },
  {
   "cell_type": "markdown",
   "metadata": {},
   "source": [
    "### Function definition: _assign_column_types()\n",
    "\n",
    "Read the records of a csv-formatted file.\n",
    "\n",
    "Apply an appropriate Sqlite data-type for each column of the seed data."
   ]
  },
  {
   "cell_type": "code",
   "execution_count": 4,
   "metadata": {},
   "outputs": [],
   "source": [
    "def _assign_column_types(records):\n",
    "    \n",
    "    '''Build a list of lists that makes note of the data type of each field\n",
    "    within each data record.'''\n",
    "    data_types = []\n",
    "    for i in range(len(records[0])):\n",
    "        data_types.append([])\n",
    "    for record in records:\n",
    "        for i in range(len(data_types)):\n",
    "            try:\n",
    "                int(record[i])\n",
    "            except ValueError:\n",
    "                try:\n",
    "                    float(record[i])\n",
    "                except:\n",
    "                    data_types[i].append('TEXT')\n",
    "                else:\n",
    "                    data_types[i].append('REAL')\n",
    "            else:\n",
    "                data_types[i].append('INTEGER')\n",
    "                \n",
    "    '''Assign types to the table columns to match the parsed data types from the\n",
    "    above list-of-lists.'''\n",
    "    column_types = []\n",
    "    for i in range(len(data_types)):\n",
    "        if 'REAL' in data_types[i]:\n",
    "            column_types.append('REAL')\n",
    "        elif 'INTEGER' in data_types[i]:\n",
    "            column_types.append('INTEGER')\n",
    "        else:\n",
    "            column_types.append('TEXT')\n",
    "            \n",
    "    return column_types"
   ]
  },
  {
   "cell_type": "markdown",
   "metadata": {},
   "source": [
    "### Function definition: _get_seed_data()\n",
    "\n",
    "Read a csv-formatted file.\n",
    "\n",
    "Return a 2-tuple that contains a list of database-table column names and a list of data records."
   ]
  },
  {
   "cell_type": "code",
   "execution_count": 5,
   "metadata": {},
   "outputs": [],
   "source": [
    "def _get_seed_data(seed_file):\n",
    "\n",
    "    rows = []\n",
    "    with open(file=seed_file, newline='') as file:\n",
    "        reader = csv.reader(file)\n",
    "        for row in reader:\n",
    "            rows.append(row)\n",
    "    return rows.pop(0), rows"
   ]
  },
  {
   "cell_type": "markdown",
   "metadata": {},
   "source": [
    "### Function definition: seed_database()\n",
    "\n",
    "Read the contents of a csv-formatted file that contains seed data.\n",
    "\n",
    "Populate a new Sqlite database and save to file. If a file already exists, then do a destructive overwrite with the new database file."
   ]
  },
  {
   "cell_type": "code",
   "execution_count": 6,
   "metadata": {},
   "outputs": [],
   "source": [
    "def seed_database(path, name):\n",
    "\n",
    "    '''Fetch the seed data including column names from the seed file.'''\n",
    "    column_names, records = _get_seed_data(f'{path}/{name}.csv')\n",
    "    if not column_names:\n",
    "        return 1\n",
    "    \n",
    "    '''Parse each data record, and designate the appropriate data type for each\n",
    "    table column.'''\n",
    "    columns = dict(zip(column_names, _assign_column_types(records=records)))\n",
    "    \n",
    "    '''Delete the old database file, if exists.'''\n",
    "    db_file = f'./{path}/{name}.db'\n",
    "    if os.path.isfile(path=db_file):\n",
    "        os.remove(db_file)\n",
    "    \n",
    "    '''Create an empty database file and connect to it. Add seed data to it,\n",
    "    then close the connection.'''\n",
    "    db = Database(path=path, name=name, **columns)\n",
    "    for record in records:\n",
    "        db.add_record(record=record)\n",
    "    db.close()\n",
    "                               \n",
    "### TODO: extend flexibility for using a variety of seed data field-seperators.\n",
    "### TODO: maybe could write a data pre-processor to standardize sloppy seed data. DIFFICULT!!!\n",
    "### TODO: add web-scraping as a source of seed data."
   ]
  },
  {
   "cell_type": "markdown",
   "metadata": {},
   "source": [
    "### Example usage: _assign_column_types() function\n",
    "\n",
    "Examine each field of each record for three database tables.\n",
    "\n",
    "Determine the appropriate column-type for all columns in each table."
   ]
  },
  {
   "cell_type": "code",
   "execution_count": 7,
   "metadata": {},
   "outputs": [
    {
     "name": "stdout",
     "output_type": "stream",
     "text": [
      "garden:\n",
      "column names/types {'NAME': 'TEXT', 'SPECIES': 'TEXT', 'TYPE': 'TEXT', 'SIZE': 'TEXT', 'HABITAT': 'TEXT'}\n",
      "books:\n",
      "column names/types {'TITLE': 'TEXT', 'AUTHOR': 'TEXT', 'YEAR': 'INTEGER', 'ISBN': 'INTEGER'}\n",
      "ledzep:\n",
      "column names/types {'ALBUM_TITLE': 'TEXT', 'RELEASE_DATE': 'TEXT', 'LABEL': 'TEXT', 'CATEGORY': 'TEXT'}\n"
     ]
    }
   ],
   "source": [
    "csv_files = ['garden', 'books', 'ledzep']\n",
    "\n",
    "for file in csv_files:\n",
    "    \n",
    "    column_names, records = _get_seed_data(f'./data/{file}.csv')\n",
    "    columns = dict(zip(column_names, _assign_column_types(records=records)))\n",
    "\n",
    "    print(f'{file}:')\n",
    "    print(f'column names/types {columns}')"
   ]
  },
  {
   "cell_type": "markdown",
   "metadata": {},
   "source": [
    "### Example usage: _get_seed_data() function\n",
    "\n",
    "Fetch the seed data from three seed files."
   ]
  },
  {
   "cell_type": "code",
   "execution_count": 8,
   "metadata": {
    "scrolled": false
   },
   "outputs": [
    {
     "name": "stdout",
     "output_type": "stream",
     "text": [
      "garden:\n"
     ]
    },
    {
     "data": {
      "text/plain": [
       "(['NAME', 'SPECIES', 'TYPE', 'SIZE', 'HABITAT'],\n",
       " [['Bugleweed',\n",
       "   'Ajuga reptans',\n",
       "   'Mint',\n",
       "   '4 to 14 inches tall',\n",
       "   'Woods and rough pastures'],\n",
       "  ['Scorpion Orchid',\n",
       "   'Arachnis breviscapa',\n",
       "   'Orchid',\n",
       "   'n/a',\n",
       "   'Island of Borneo'],\n",
       "  ['Gold Blossom Tree',\n",
       "   'Barklya syringifolia',\n",
       "   'Peacock Flower',\n",
       "   '60 feet tall',\n",
       "   'Australia'],\n",
       "  ['Dinosaur Food',\n",
       "   'Gunnera manicata',\n",
       "   'Giant Rhubarb',\n",
       "   '8 foot tall by 13 feet wide',\n",
       "   'Brazil']])"
      ]
     },
     "metadata": {},
     "output_type": "display_data"
    },
    {
     "name": "stdout",
     "output_type": "stream",
     "text": [
      "books:\n"
     ]
    },
    {
     "data": {
      "text/plain": [
       "(['TITLE', 'AUTHOR', 'YEAR', 'ISBN'],\n",
       " [['Python Programming: An Introduction to Computer Science',\n",
       "   'John M. Zelle',\n",
       "   '2004',\n",
       "   '1887902996'],\n",
       "  ['Programming Python: Powerful Object-Oriented Programming',\n",
       "   'Mark Lutz',\n",
       "   '2010',\n",
       "   '1449302750'],\n",
       "  ['Core Python Programming', 'Wesley J Chun', '2006', '0137061595'],\n",
       "  ['Expert Python Programming', 'Tarek Ziade', '2008', '1847194958'],\n",
       "  ['Python for Kids: A Playful Introduction to Programming',\n",
       "   'Jason R. Briggs',\n",
       "   '2013',\n",
       "   '1593274076'],\n",
       "  ['Learning Python: Powerful Object-Oriented Programming',\n",
       "   'Mark Lutz',\n",
       "   '2013',\n",
       "   '1449355692'],\n",
       "  ['Python Programming in Context',\n",
       "   'Bradley N. Miller & \\u200eDavid L. Ranum',\n",
       "   '2010',\n",
       "   '1449660347'],\n",
       "  ['Python Programming for the Absolute Beginner: Third Edition',\n",
       "   'Michael Dawson',\n",
       "   '2010',\n",
       "   '1435456017'],\n",
       "  ['Python Programming On Win32: Help for Windows Programmers',\n",
       "   'Mark Hammond & \\u200eAndy Robinson',\n",
       "   '2000',\n",
       "   '1565926218'],\n",
       "  ['Functional Python Programming', 'Steven Lott', '2015', '1784396992'],\n",
       "  ['Python Programming For Beginners: Python Programming Language Tutorial',\n",
       "   'Joseph Joyner',\n",
       "   '2014',\n",
       "   '1633830403'],\n",
       "  ['More Python Programming for the Absolute Beginner',\n",
       "   'Jonathan Harbour',\n",
       "   '2011',\n",
       "   '1435459806'],\n",
       "  ['Python: The Fundamentals of Python Programming',\n",
       "   'Paul Jones',\n",
       "   '2016',\n",
       "   '1539530264'],\n",
       "  ['Python Programming for Biology',\n",
       "   'Tim J. Stevens & \\u200eWayne Boucher',\n",
       "   '2015',\n",
       "   '0521895839']])"
      ]
     },
     "metadata": {},
     "output_type": "display_data"
    },
    {
     "name": "stdout",
     "output_type": "stream",
     "text": [
      "ledzep:\n"
     ]
    },
    {
     "data": {
      "text/plain": [
       "(['ALBUM_TITLE', 'RELEASE_DATE', 'LABEL', 'CATEGORY'],\n",
       " [['Led Zeppelin', '12 January 1969', 'Atlantic', 'Studio'],\n",
       "  ['Led Zeppelin II', '22 October 1969', 'Atlantic', 'Studio'],\n",
       "  ['Led Zeppelin III', '5 October 1970', 'Atlantic', 'Studio'],\n",
       "  ['Led Zeppelin IV', '8 November 1971', 'Atlantic', 'Studio'],\n",
       "  ['Houses of the Holy', '28 March 1973', 'Atlantic', 'Studio'],\n",
       "  ['Physical Graffiti', '24 February 1975', 'Swan Song', 'Studio'],\n",
       "  ['The Song Remains the Same', '22 October 1976', 'Swan Song', 'Live'],\n",
       "  ['Presence', '31 March 1976', 'Swan Song', 'Studio'],\n",
       "  ['In Through the Out Door', '15 August 1979', 'Swan Song', 'Studio'],\n",
       "  ['Coda', '19 November 1982', 'Swan Song', 'Studio'],\n",
       "  ['Led Zeppelin Boxed Set', '7 September 1990', 'Atlantic', 'Compilation'],\n",
       "  ['Led Zeppelin Remasters', '15 October 1990', 'Atlantic', 'Compilation'],\n",
       "  ['Led Zeppelin Boxed Set 2', '21 September 1993', 'Atlantic', 'Compilation'],\n",
       "  ['The Complete Studio Recordings',\n",
       "   '24 September 1993',\n",
       "   'Atlantic',\n",
       "   'Compilation'],\n",
       "  ['BBC Sessions', '11 November 1997', 'Atlantic', 'Live'],\n",
       "  ['Early Days: Best of Led Zeppelin Volume One',\n",
       "   '24 February 1999',\n",
       "   'Atlantic',\n",
       "   'Compilation'],\n",
       "  ['Latter Days: Best of Led Zeppelin Volume Two',\n",
       "   '21 March 2000',\n",
       "   'Atlantic',\n",
       "   'Compilation'],\n",
       "  ['Early Days and Latter Days',\n",
       "   '19 November 2002',\n",
       "   'Atlantic',\n",
       "   'Compilation'],\n",
       "  ['How the West Was Won', '27 May 2003', 'Atlantic', 'Live'],\n",
       "  ['Mothership', '12 November 2007', 'Atlantic', 'Compilation'],\n",
       "  ['Definitive Collection',\n",
       "   '4 November 2008',\n",
       "   'Atlantic/Rhino',\n",
       "   'Compilation'],\n",
       "  ['Celebration Day', '19 November 2012', 'Atlantic', 'Live']])"
      ]
     },
     "metadata": {},
     "output_type": "display_data"
    }
   ],
   "source": [
    "csv_files = ['garden', 'books', 'ledzep']\n",
    "\n",
    "for file in csv_files:\n",
    "    print(f'{file}:')\n",
    "    display(_get_seed_data(seed_file=f'./data/{file}.csv'))"
   ]
  },
  {
   "cell_type": "markdown",
   "metadata": {},
   "source": [
    "### Example usage: seed_database() function\n",
    "\n",
    "Seed fresh data records into three database files.\n",
    "\n",
    "Overwrite each current database file with a freshly-seeded file."
   ]
  },
  {
   "cell_type": "code",
   "execution_count": 9,
   "metadata": {
    "scrolled": true
   },
   "outputs": [
    {
     "name": "stdout",
     "output_type": "stream",
     "text": [
      "garden:\n",
      "CREATE TABLE IF NOT EXISTS garden (id INTEGER PRIMARY KEY, name TEXT, species TEXT, type TEXT, size TEXT, habitat TEXT)\n",
      "INSERT INTO garden VALUES (NULL, \"Bugleweed\", \"Ajuga reptans\", \"Mint\", \"4 to 14 inches tall\", \"Woods and rough pastures\")\n",
      "INSERT INTO garden VALUES (NULL, \"Scorpion Orchid\", \"Arachnis breviscapa\", \"Orchid\", \"n/a\", \"Island of Borneo\")\n",
      "INSERT INTO garden VALUES (NULL, \"Gold Blossom Tree\", \"Barklya syringifolia\", \"Peacock Flower\", \"60 feet tall\", \"Australia\")\n",
      "INSERT INTO garden VALUES (NULL, \"Dinosaur Food\", \"Gunnera manicata\", \"Giant Rhubarb\", \"8 foot tall by 13 feet wide\", \"Brazil\")\n",
      "SELECT * FROM garden\n"
     ]
    },
    {
     "data": {
      "text/html": [
       "<table><tr><th>id</th><th>name</th><th>species</th><th>type</th><th>size</th><th>habitat</th></tr><tr><td>1</td><td>Bugleweed</td><td>Ajuga reptans</td><td>Mint</td><td>4 to 14 inches tall</td><td>Woods and rough pastures</td></tr><tr><td>2</td><td>Scorpion Orchid</td><td>Arachnis breviscapa</td><td>Orchid</td><td>n/a</td><td>Island of Borneo</td></tr><tr><td>3</td><td>Gold Blossom Tree</td><td>Barklya syringifolia</td><td>Peacock Flower</td><td>60 feet tall</td><td>Australia</td></tr><tr><td>4</td><td>Dinosaur Food</td><td>Gunnera manicata</td><td>Giant Rhubarb</td><td>8 foot tall by 13 feet wide</td><td>Brazil</td></tr></table>"
      ],
      "text/plain": [
       "<IPython.core.display.HTML object>"
      ]
     },
     "metadata": {},
     "output_type": "display_data"
    },
    {
     "name": "stdout",
     "output_type": "stream",
     "text": [
      "books:\n",
      "CREATE TABLE IF NOT EXISTS books (id INTEGER PRIMARY KEY, title TEXT, author TEXT, year INTEGER, isbn INTEGER)\n",
      "INSERT INTO books VALUES (NULL, \"Python Programming: An Introduction to Computer Science\", \"John M. Zelle\", \"2004\", \"1887902996\")\n",
      "INSERT INTO books VALUES (NULL, \"Programming Python: Powerful Object-Oriented Programming\", \"Mark Lutz\", \"2010\", \"1449302750\")\n",
      "INSERT INTO books VALUES (NULL, \"Core Python Programming\", \"Wesley J Chun\", \"2006\", \"0137061595\")\n",
      "INSERT INTO books VALUES (NULL, \"Expert Python Programming\", \"Tarek Ziade\", \"2008\", \"1847194958\")\n",
      "INSERT INTO books VALUES (NULL, \"Python for Kids: A Playful Introduction to Programming\", \"Jason R. Briggs\", \"2013\", \"1593274076\")\n",
      "INSERT INTO books VALUES (NULL, \"Learning Python: Powerful Object-Oriented Programming\", \"Mark Lutz\", \"2013\", \"1449355692\")\n",
      "INSERT INTO books VALUES (NULL, \"Python Programming in Context\", \"Bradley N. Miller & ‎David L. Ranum\", \"2010\", \"1449660347\")\n",
      "INSERT INTO books VALUES (NULL, \"Python Programming for the Absolute Beginner: Third Edition\", \"Michael Dawson\", \"2010\", \"1435456017\")\n",
      "INSERT INTO books VALUES (NULL, \"Python Programming On Win32: Help for Windows Programmers\", \"Mark Hammond & ‎Andy Robinson\", \"2000\", \"1565926218\")\n",
      "INSERT INTO books VALUES (NULL, \"Functional Python Programming\", \"Steven Lott\", \"2015\", \"1784396992\")\n",
      "INSERT INTO books VALUES (NULL, \"Python Programming For Beginners: Python Programming Language Tutorial\", \"Joseph Joyner\", \"2014\", \"1633830403\")\n",
      "INSERT INTO books VALUES (NULL, \"More Python Programming for the Absolute Beginner\", \"Jonathan Harbour\", \"2011\", \"1435459806\")\n",
      "INSERT INTO books VALUES (NULL, \"Python: The Fundamentals of Python Programming\", \"Paul Jones\", \"2016\", \"1539530264\")\n",
      "INSERT INTO books VALUES (NULL, \"Python Programming for Biology\", \"Tim J. Stevens & ‎Wayne Boucher\", \"2015\", \"0521895839\")\n",
      "SELECT * FROM books\n"
     ]
    },
    {
     "data": {
      "text/html": [
       "<table><tr><th>id</th><th>title</th><th>author</th><th>year</th><th>isbn</th></tr><tr><td>1</td><td>Python Programming: An Introduction to Computer Science</td><td>John M. Zelle</td><td>2004</td><td>1887902996</td></tr><tr><td>2</td><td>Programming Python: Powerful Object-Oriented Programming</td><td>Mark Lutz</td><td>2010</td><td>1449302750</td></tr><tr><td>3</td><td>Core Python Programming</td><td>Wesley J Chun</td><td>2006</td><td>137061595</td></tr><tr><td>4</td><td>Expert Python Programming</td><td>Tarek Ziade</td><td>2008</td><td>1847194958</td></tr><tr><td>5</td><td>Python for Kids: A Playful Introduction to Programming</td><td>Jason R. Briggs</td><td>2013</td><td>1593274076</td></tr><tr><td>6</td><td>Learning Python: Powerful Object-Oriented Programming</td><td>Mark Lutz</td><td>2013</td><td>1449355692</td></tr><tr><td>7</td><td>Python Programming in Context</td><td>Bradley N. Miller & ‎David L. Ranum</td><td>2010</td><td>1449660347</td></tr><tr><td>8</td><td>Python Programming for the Absolute Beginner: Third Edition</td><td>Michael Dawson</td><td>2010</td><td>1435456017</td></tr><tr><td>9</td><td>Python Programming On Win32: Help for Windows Programmers</td><td>Mark Hammond & ‎Andy Robinson</td><td>2000</td><td>1565926218</td></tr><tr><td>10</td><td>Functional Python Programming</td><td>Steven Lott</td><td>2015</td><td>1784396992</td></tr><tr><td>11</td><td>Python Programming For Beginners: Python Programming Language Tutorial</td><td>Joseph Joyner</td><td>2014</td><td>1633830403</td></tr><tr><td>12</td><td>More Python Programming for the Absolute Beginner</td><td>Jonathan Harbour</td><td>2011</td><td>1435459806</td></tr><tr><td>13</td><td>Python: The Fundamentals of Python Programming</td><td>Paul Jones</td><td>2016</td><td>1539530264</td></tr><tr><td>14</td><td>Python Programming for Biology</td><td>Tim J. Stevens & ‎Wayne Boucher</td><td>2015</td><td>521895839</td></tr></table>"
      ],
      "text/plain": [
       "<IPython.core.display.HTML object>"
      ]
     },
     "metadata": {},
     "output_type": "display_data"
    },
    {
     "name": "stdout",
     "output_type": "stream",
     "text": [
      "ledzep:\n",
      "CREATE TABLE IF NOT EXISTS ledzep (id INTEGER PRIMARY KEY, album_title TEXT, release_date TEXT, label TEXT, category TEXT)\n",
      "INSERT INTO ledzep VALUES (NULL, \"Led Zeppelin\", \"12 January 1969\", \"Atlantic\", \"Studio\")\n",
      "INSERT INTO ledzep VALUES (NULL, \"Led Zeppelin II\", \"22 October 1969\", \"Atlantic\", \"Studio\")\n",
      "INSERT INTO ledzep VALUES (NULL, \"Led Zeppelin III\", \"5 October 1970\", \"Atlantic\", \"Studio\")\n",
      "INSERT INTO ledzep VALUES (NULL, \"Led Zeppelin IV\", \"8 November 1971\", \"Atlantic\", \"Studio\")\n",
      "INSERT INTO ledzep VALUES (NULL, \"Houses of the Holy\", \"28 March 1973\", \"Atlantic\", \"Studio\")\n",
      "INSERT INTO ledzep VALUES (NULL, \"Physical Graffiti\", \"24 February 1975\", \"Swan Song\", \"Studio\")\n",
      "INSERT INTO ledzep VALUES (NULL, \"The Song Remains the Same\", \"22 October 1976\", \"Swan Song\", \"Live\")\n",
      "INSERT INTO ledzep VALUES (NULL, \"Presence\", \"31 March 1976\", \"Swan Song\", \"Studio\")\n",
      "INSERT INTO ledzep VALUES (NULL, \"In Through the Out Door\", \"15 August 1979\", \"Swan Song\", \"Studio\")\n",
      "INSERT INTO ledzep VALUES (NULL, \"Coda\", \"19 November 1982\", \"Swan Song\", \"Studio\")\n",
      "INSERT INTO ledzep VALUES (NULL, \"Led Zeppelin Boxed Set\", \"7 September 1990\", \"Atlantic\", \"Compilation\")\n",
      "INSERT INTO ledzep VALUES (NULL, \"Led Zeppelin Remasters\", \"15 October 1990\", \"Atlantic\", \"Compilation\")\n",
      "INSERT INTO ledzep VALUES (NULL, \"Led Zeppelin Boxed Set 2\", \"21 September 1993\", \"Atlantic\", \"Compilation\")\n",
      "INSERT INTO ledzep VALUES (NULL, \"The Complete Studio Recordings\", \"24 September 1993\", \"Atlantic\", \"Compilation\")\n",
      "INSERT INTO ledzep VALUES (NULL, \"BBC Sessions\", \"11 November 1997\", \"Atlantic\", \"Live\")\n",
      "INSERT INTO ledzep VALUES (NULL, \"Early Days: Best of Led Zeppelin Volume One\", \"24 February 1999\", \"Atlantic\", \"Compilation\")\n",
      "INSERT INTO ledzep VALUES (NULL, \"Latter Days: Best of Led Zeppelin Volume Two\", \"21 March 2000\", \"Atlantic\", \"Compilation\")\n",
      "INSERT INTO ledzep VALUES (NULL, \"Early Days and Latter Days\", \"19 November 2002\", \"Atlantic\", \"Compilation\")\n",
      "INSERT INTO ledzep VALUES (NULL, \"How the West Was Won\", \"27 May 2003\", \"Atlantic\", \"Live\")\n",
      "INSERT INTO ledzep VALUES (NULL, \"Mothership\", \"12 November 2007\", \"Atlantic\", \"Compilation\")\n",
      "INSERT INTO ledzep VALUES (NULL, \"Definitive Collection\", \"4 November 2008\", \"Atlantic/Rhino\", \"Compilation\")\n",
      "INSERT INTO ledzep VALUES (NULL, \"Celebration Day\", \"19 November 2012\", \"Atlantic\", \"Live\")\n",
      "SELECT * FROM ledzep\n"
     ]
    },
    {
     "data": {
      "text/html": [
       "<table><tr><th>id</th><th>album_title</th><th>release_date</th><th>label</th><th>category</th></tr><tr><td>1</td><td>Led Zeppelin</td><td>12 January 1969</td><td>Atlantic</td><td>Studio</td></tr><tr><td>2</td><td>Led Zeppelin II</td><td>22 October 1969</td><td>Atlantic</td><td>Studio</td></tr><tr><td>3</td><td>Led Zeppelin III</td><td>5 October 1970</td><td>Atlantic</td><td>Studio</td></tr><tr><td>4</td><td>Led Zeppelin IV</td><td>8 November 1971</td><td>Atlantic</td><td>Studio</td></tr><tr><td>5</td><td>Houses of the Holy</td><td>28 March 1973</td><td>Atlantic</td><td>Studio</td></tr><tr><td>6</td><td>Physical Graffiti</td><td>24 February 1975</td><td>Swan Song</td><td>Studio</td></tr><tr><td>7</td><td>The Song Remains the Same</td><td>22 October 1976</td><td>Swan Song</td><td>Live</td></tr><tr><td>8</td><td>Presence</td><td>31 March 1976</td><td>Swan Song</td><td>Studio</td></tr><tr><td>9</td><td>In Through the Out Door</td><td>15 August 1979</td><td>Swan Song</td><td>Studio</td></tr><tr><td>10</td><td>Coda</td><td>19 November 1982</td><td>Swan Song</td><td>Studio</td></tr><tr><td>11</td><td>Led Zeppelin Boxed Set</td><td>7 September 1990</td><td>Atlantic</td><td>Compilation</td></tr><tr><td>12</td><td>Led Zeppelin Remasters</td><td>15 October 1990</td><td>Atlantic</td><td>Compilation</td></tr><tr><td>13</td><td>Led Zeppelin Boxed Set 2</td><td>21 September 1993</td><td>Atlantic</td><td>Compilation</td></tr><tr><td>14</td><td>The Complete Studio Recordings</td><td>24 September 1993</td><td>Atlantic</td><td>Compilation</td></tr><tr><td>15</td><td>BBC Sessions</td><td>11 November 1997</td><td>Atlantic</td><td>Live</td></tr><tr><td>16</td><td>Early Days: Best of Led Zeppelin Volume One</td><td>24 February 1999</td><td>Atlantic</td><td>Compilation</td></tr><tr><td>17</td><td>Latter Days: Best of Led Zeppelin Volume Two</td><td>21 March 2000</td><td>Atlantic</td><td>Compilation</td></tr><tr><td>18</td><td>Early Days and Latter Days</td><td>19 November 2002</td><td>Atlantic</td><td>Compilation</td></tr><tr><td>19</td><td>How the West Was Won</td><td>27 May 2003</td><td>Atlantic</td><td>Live</td></tr><tr><td>20</td><td>Mothership</td><td>12 November 2007</td><td>Atlantic</td><td>Compilation</td></tr><tr><td>21</td><td>Definitive Collection</td><td>4 November 2008</td><td>Atlantic/Rhino</td><td>Compilation</td></tr><tr><td>22</td><td>Celebration Day</td><td>19 November 2012</td><td>Atlantic</td><td>Live</td></tr></table>"
      ],
      "text/plain": [
       "<IPython.core.display.HTML object>"
      ]
     },
     "metadata": {},
     "output_type": "display_data"
    }
   ],
   "source": [
    "from IPython.display import HTML\n",
    "\n",
    "!rm -f ./data/*.db\n",
    "\n",
    "csv_files = ['garden', 'books', 'ledzep']\n",
    "\n",
    "for file in csv_files:\n",
    "    print(f'{file}:')\n",
    "\n",
    "    seed_database('./data', file)\n",
    "\n",
    "    db = Database(path='./data', name=file)\n",
    "    display(HTML(db.to_html(True)))\n",
    "    db = None"
   ]
  },
  {
   "cell_type": "markdown",
   "metadata": {},
   "source": [
    "### Information about this notebook:"
   ]
  },
  {
   "cell_type": "code",
   "execution_count": 10,
   "metadata": {},
   "outputs": [
    {
     "name": "stdout",
     "output_type": "stream",
     "text": [
      "Additional notebooks in this application (click to open in a new tab):\n"
     ]
    },
    {
     "data": {
      "text/html": [
       "<a href='Building a Desktop Database Application.ipynb' target='_blank'>Building a Desktop Database Application.ipynb</a><br>"
      ],
      "text/plain": [
       "/home/zero2cx/projects/the-python-mega-course/App5/Building a Desktop Database Application.ipynb"
      ]
     },
     "metadata": {},
     "output_type": "display_data"
    },
    {
     "data": {
      "text/html": [
       "<a href='db.ipynb' target='_blank'>db.ipynb</a><br>"
      ],
      "text/plain": [
       "/home/zero2cx/projects/the-python-mega-course/App5/db.ipynb"
      ]
     },
     "metadata": {},
     "output_type": "display_data"
    },
    {
     "name": "stdout",
     "output_type": "stream",
     "text": [
      "Associated files that contain the seed data (click to download):\n"
     ]
    },
    {
     "data": {
      "text/html": [
       "<a href='./data/books.csv' target='_blank'>./data/books.csv</a><br>"
      ],
      "text/plain": [
       "/home/zero2cx/projects/the-python-mega-course/App5/data/books.csv"
      ]
     },
     "metadata": {},
     "output_type": "display_data"
    },
    {
     "data": {
      "text/html": [
       "<a href='./data/garden.csv' target='_blank'>./data/garden.csv</a><br>"
      ],
      "text/plain": [
       "/home/zero2cx/projects/the-python-mega-course/App5/data/garden.csv"
      ]
     },
     "metadata": {},
     "output_type": "display_data"
    },
    {
     "data": {
      "text/html": [
       "<a href='./data/ledzep.csv' target='_blank'>./data/ledzep.csv</a><br>"
      ],
      "text/plain": [
       "/home/zero2cx/projects/the-python-mega-course/App5/data/ledzep.csv"
      ]
     },
     "metadata": {},
     "output_type": "display_data"
    }
   ],
   "source": [
    "from IPython.display import FileLink\n",
    "\n",
    "print('Additional notebooks in this application (click to open in a new tab):')\n",
    "display(FileLink('Building a Desktop Database Application.ipynb'))\n",
    "display(FileLink('db.ipynb'))\n",
    "\n",
    "print('Associated files that contain the seed data (click to download):')\n",
    "display(FileLink('./data/books.csv'))\n",
    "display(FileLink('./data/garden.csv'))\n",
    "display(FileLink('./data/ledzep.csv'))\n",
    "\n",
    "license = '''\n",
    "This software is licensed under the Gnu GPLv3\n",
    "(c) 2017 David Schenck https://github.com/zero2cx/\n",
    "\n",
    "This program is free software: you can redistribute it and/or modify\n",
    "it under the terms of the GNU General Public License as published by\n",
    "the Free Software Foundation, either version 3 of the License, or\n",
    "(at your option) any later version.\n",
    "\n",
    "This program is distributed in the hope that it will be useful,\n",
    "but WITHOUT ANY WARRANTY; without even the implied warranty of\n",
    "MERCHANTABILITY or FITNESS FOR A PARTICULAR PURPOSE.  See the\n",
    "GNU General Public License for more details.\n",
    "\n",
    "You should have received a copy of the GNU General Public License\n",
    "along with this program.  If not, see <https://www.gnu.org/licenses/>.\n",
    "'''"
   ]
  }
 ],
 "metadata": {
  "kernelspec": {
   "display_name": "Python 3",
   "language": "python",
   "name": "python3"
  },
  "language_info": {
   "codemirror_mode": {
    "name": "ipython",
    "version": 3
   },
   "file_extension": ".py",
   "mimetype": "text/x-python",
   "name": "python",
   "nbconvert_exporter": "python",
   "pygments_lexer": "ipython3",
   "version": "3.6.4"
  }
 },
 "nbformat": 4,
 "nbformat_minor": 2
}
