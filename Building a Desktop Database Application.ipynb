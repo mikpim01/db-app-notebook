{
 "cells": [
  {
   "cell_type": "markdown",
   "metadata": {
    "collapsed": true
   },
   "source": [
    "# Building a Desktop Database Application\n",
    "\n",
    "### Generate an Sqlite database administration interface using Python's Tkinter module.\n",
    "\n",
    "**Part of [Building a Desktop Database Application](./Building a Desktop Database Application.ipynb)**\n",
    "\n",
    "**Developer: [David Schenck](https://github.com/zero2cx/)**\n",
    "\n",
    "**App 5 - [The Python Mega Course](https://www.udemy.com/the-python-mega-course/) (Course Creator & Facilitator: [Ardit Sulce](http://pythonhow.com/author))**\n",
    "\n",
    "Note: Python 3.6 or higher is required to execute this notebook application.\n",
    "\n",
    "###### >> [Skip down to the application launcher](#launcher) <<"
   ]
  },
  {
   "cell_type": "code",
   "execution_count": 8,
   "metadata": {},
   "outputs": [],
   "source": [
    "%reload_ext autoreload\n",
    "%autoreload 2"
   ]
  },
  {
   "cell_type": "code",
   "execution_count": 9,
   "metadata": {},
   "outputs": [],
   "source": [
    "import os, sys\n",
    "import tkinter as tk"
   ]
  },
  {
   "cell_type": "markdown",
   "metadata": {},
   "source": [
    "Import the notebooks that contain the **Database** class and the **seed_database()** function."
   ]
  },
  {
   "cell_type": "code",
   "execution_count": 10,
   "metadata": {},
   "outputs": [],
   "source": [
    "%%capture\n",
    "%run db.ipynb\n",
    "%run seed.ipynb"
   ]
  },
  {
   "cell_type": "markdown",
   "metadata": {},
   "source": [
    "# HTML browser interface\n",
    "\n",
    "### Function definition: main()\n",
    "\n",
    "### Function definition: on_button_clicked()\n",
    "\n",
    "The **main()** function creates the database and seeds it with data, when necessary. Then the function  generates and displays a Tk.Window user interface using the **Window** class of this notebook. Function **main()** is called by the **on_button_clicked()** event handler of the HTML buttons located below.\n",
    "\n",
    "Note: Each seed file's first line determines the comma-separated column names. Each following line will form one comma-separated data record."
   ]
  },
  {
   "cell_type": "code",
   "execution_count": 11,
   "metadata": {},
   "outputs": [
    {
     "data": {
      "text/html": [
       "\n",
       "<a name=\"launcher\" style=\"color: black; text-decoration: none;\"><hr style=\"height:4px;\"></a>\n",
       "<h1>Launch the application</h1>\n",
       "<br>\n",
       "<p>The buttons below will each generate the Tk Window user interface to administer a\n",
       "different Sqlite database. When `Seed with fresh data` is checked, new table records\n",
       "are generated from the seed data. <em>TODO: let the user upload or enter their own\n",
       "custom seed-data.</em></p>\n"
      ],
      "text/plain": [
       "<IPython.core.display.HTML object>"
      ]
     },
     "metadata": {},
     "output_type": "display_data"
    },
    {
     "data": {
      "application/vnd.jupyter.widget-view+json": {
       "model_id": "fde423ab500e46e69ff2c09c5c7d2ce5",
       "version_major": 2,
       "version_minor": 0
      },
      "text/html": [
       "<p>Failed to display Jupyter Widget of type <code>Checkbox</code>.</p>\n",
       "<p>\n",
       "  If you're reading this message in the Jupyter Notebook or JupyterLab Notebook, it may mean\n",
       "  that the widgets JavaScript is still loading. If this message persists, it\n",
       "  likely means that the widgets JavaScript library is either not installed or\n",
       "  not enabled. See the <a href=\"https://ipywidgets.readthedocs.io/en/stable/user_install.html\">Jupyter\n",
       "  Widgets Documentation</a> for setup instructions.\n",
       "</p>\n",
       "<p>\n",
       "  If you're reading this message in another frontend (for example, a static\n",
       "  rendering on GitHub or <a href=\"https://nbviewer.jupyter.org/\">NBViewer</a>),\n",
       "  it may mean that your frontend doesn't currently support widgets.\n",
       "</p>\n"
      ],
      "text/plain": [
       "Checkbox(value=False, description='Seed with fresh data')"
      ]
     },
     "metadata": {},
     "output_type": "display_data"
    },
    {
     "data": {
      "application/vnd.jupyter.widget-view+json": {
       "model_id": "22f894849aff4b0dbf3d806f5f9ddf57",
       "version_major": 2,
       "version_minor": 0
      },
      "text/html": [
       "<p>Failed to display Jupyter Widget of type <code>HBox</code>.</p>\n",
       "<p>\n",
       "  If you're reading this message in the Jupyter Notebook or JupyterLab Notebook, it may mean\n",
       "  that the widgets JavaScript is still loading. If this message persists, it\n",
       "  likely means that the widgets JavaScript library is either not installed or\n",
       "  not enabled. See the <a href=\"https://ipywidgets.readthedocs.io/en/stable/user_install.html\">Jupyter\n",
       "  Widgets Documentation</a> for setup instructions.\n",
       "</p>\n",
       "<p>\n",
       "  If you're reading this message in another frontend (for example, a static\n",
       "  rendering on GitHub or <a href=\"https://nbviewer.jupyter.org/\">NBViewer</a>),\n",
       "  it may mean that your frontend doesn't currently support widgets.\n",
       "</p>\n"
      ],
      "text/plain": [
       "HBox(children=(Button(description='books', style=ButtonStyle()), Button(description='garden', style=ButtonStyle()), Button(description='ledzep', style=ButtonStyle())))"
      ]
     },
     "metadata": {},
     "output_type": "display_data"
    },
    {
     "data": {
      "text/html": [
       "<hr style=\"height:4px;\">"
      ],
      "text/plain": [
       "<IPython.core.display.HTML object>"
      ]
     },
     "metadata": {},
     "output_type": "display_data"
    }
   ],
   "source": [
    "from ipywidgets import widgets\n",
    "from IPython.display import HTML, clear_output\n",
    "\n",
    "def main(db_name, title='Database Control Interface', seed=False):\n",
    "    '''\n",
    "    Generate the Tk window interface, and populate its form elements with data.\n",
    "    '''\n",
    "    if seed:\n",
    "        seed_database(path='./data', name=db_name)\n",
    "    ui = tk.Tk()\n",
    "    Window(window=ui, title=title, db=Database(path='./data', name=db_name))\n",
    "    ui.mainloop()\n",
    "\n",
    "def on_button_clicked(button):\n",
    "    '''\n",
    "    Handle a button click event by calling function main().\n",
    "    '''\n",
    "    # Re-render the HTML form that's located below this cell.\n",
    "    clear_output()\n",
    "    display(HTML(description))\n",
    "    display(chk_seed, box_buttons)\n",
    "    display(HTML(line))\n",
    "    \n",
    "    # Inpsect the attributes of the form elements, then call function main().\n",
    "    db_name = button.description\n",
    "    seed = chk_seed.value\n",
    "    chk_seed.value = False\n",
    "    main(db_name=db_name, title=db_name, seed=seed)\n",
    "\n",
    "# These HTML form elements will configure the launch of the Tk Window user interface.\n",
    "line = '<hr style=\"height:4px;\">'\n",
    "description = f'''\n",
    "<a name=\"launcher\" style=\"color: black; text-decoration: none;\">{line}</a>\n",
    "<h1>Launch the application</h1>\n",
    "<br>\n",
    "<p>The buttons below will each generate the Tk Window user interface to administer a\n",
    "different Sqlite database. When `Seed with fresh data` is checked, new table records\n",
    "are generated from the seed data. <em>TODO: let the user upload or enter their own\n",
    "custom seed-data.</em></p>\n",
    "'''\n",
    "chk_seed = widgets.Checkbox(value=False,description='Seed with fresh data', disabled=False)\n",
    "button1 = widgets.Button(description='books')\n",
    "button1.on_click(on_button_clicked)\n",
    "button2 = widgets.Button(description='garden')\n",
    "button2.on_click(on_button_clicked)\n",
    "button3 = widgets.Button(description='ledzep')\n",
    "button3.on_click(on_button_clicked)\n",
    "box_buttons = widgets.HBox([button1, button2, button3])\n",
    "\n",
    "# Render the form.\n",
    "display(HTML(description))\n",
    "display(chk_seed, box_buttons)\n",
    "display(HTML(line))"
   ]
  },
  {
   "cell_type": "markdown",
   "metadata": {},
   "source": [
    "# Application support classes\n",
    "\n",
    "### Class definition: Window class\n",
    "\n",
    "Generate and display a Tk window (GUI) using the **UserInterface** class of this notebook. The windowed interface administers the records in an Sqlite database table using the imported **Database** class of the [db.ipynb](./db.ipynb) notebook. Seed data is generated using the imported **seed_database()** function of the [seed.ipynb](./seed.ipynb) notebook."
   ]
  },
  {
   "cell_type": "code",
   "execution_count": 12,
   "metadata": {},
   "outputs": [],
   "source": [
    "class Window():\n",
    "\n",
    "    def __init__(self, window, title, db):\n",
    "        \n",
    "        self.window = window\n",
    "        self.window.wm_title(string=title)\n",
    "        self.db = db\n",
    "        \n",
    "        # Build a list of fields (Tk.Label+Tk.Entry combo) from the table column-names.\n",
    "        fields = []\n",
    "        for column in self.db.get_column_names():\n",
    "            fields.append(column)\n",
    "        \n",
    "        # Define a list of button names, each with an associated click-event handler.\n",
    "        buttons = [\n",
    "            ('view_all', self.view_collection),\n",
    "            ('search', self.search_collection),\n",
    "            ('add_new', self.add_item),\n",
    "            ('update', self.update_item),\n",
    "            ('delete', self.delete_item),\n",
    "            ('close', self.window.destroy),\n",
    "        ]\n",
    "        \n",
    "        # Initialize the user interface.\n",
    "        self.ui = UserInterface(self.window, fields, buttons)\n",
    "        self.view_collection()\n",
    "\n",
    "    def view_collection(self):\n",
    "        '''\n",
    "        Display all records in the database table.\n",
    "        '''\n",
    "        self.ui.lst.delete(0, tk.END)\n",
    "        for record in self.db.get_all_records():\n",
    "            self.ui.lst.insert(tk.END, record)\n",
    "\n",
    "    def search_collection(self):\n",
    "        '''\n",
    "        Search for all records that conform to the search criteria.\n",
    "        '''\n",
    "        val = {}\n",
    "        for name in self.db.get_column_names():\n",
    "            val[name] = self.ui.ent[name].get()\n",
    "        records = self.db.get_records(**val)\n",
    "        self.ui.lst.delete(0, tk.END)\n",
    "        for record in records:\n",
    "            self.ui.lst.insert(tk.END, (record))\n",
    "\n",
    "    def add_item(self):\n",
    "        '''\n",
    "        Add a record to the database table.\n",
    "        '''\n",
    "        record = []\n",
    "        for name in self.db.get_column_names():\n",
    "            field = self.ui.ent[name].get()\n",
    "            if not field:\n",
    "                return\n",
    "            record.append(field)\n",
    "        self.db.add_record(record=record)\n",
    "        self.view_collection()\n",
    "\n",
    "    def update_item(self):\n",
    "        '''\n",
    "        Update a record in the database table.\n",
    "        '''\n",
    "        try:\n",
    "            id = self.ui.selected[0]\n",
    "        except NameError:\n",
    "            return\n",
    "        val = {}\n",
    "        for name in self.db.get_column_names():\n",
    "            val[name] = self.ui.ent[name].get()\n",
    "            if not val[name]:\n",
    "                return\n",
    "        self.db.update_record(id=id, **val)\n",
    "        self.view_collection()\n",
    "\n",
    "    def delete_item(self):\n",
    "        '''\n",
    "        Delete a record from the database table.\n",
    "        '''\n",
    "        try:\n",
    "            id = self.ui.selected[0]\n",
    "        except NameError:\n",
    "            return\n",
    "        self.db.delete_record(id)\n",
    "        self.view_collection()"
   ]
  },
  {
   "cell_type": "markdown",
   "metadata": {},
   "source": [
    "### Class definition: UserInterface class\n",
    "\n",
    "Generate Tk form elements according to the caller's specification and populate the caller's window attribute with them.\n",
    "\n",
    "These form elements consists of:\n",
    "\n",
    "- A flexible number of Tk.Entry elements, each associated with a Tk.Label element\n",
    "- One Tk.Listbox element with an associated Tk.Scrollbar element\n",
    "- Six Tk.Button elements\n",
    "\n",
    "The form elements are placed into the Tk Window attribute of the caller, which is the **Window** class of this notebook."
   ]
  },
  {
   "cell_type": "code",
   "execution_count": 13,
   "metadata": {},
   "outputs": [],
   "source": [
    "class UserInterface():\n",
    "\n",
    "    def __init__(self, window, fields, buttons):\n",
    "        \n",
    "        self.fields = fields\n",
    "        self.window = window\n",
    "        self.lbl = {}\n",
    "        self.ent = {}\n",
    "        self.btn = {}\n",
    "        self.lst = None\n",
    "        self.selected = None\n",
    "        self.col = 0\n",
    "        self.row = 0\n",
    "        \n",
    "        # Add all of the Tk form elements to the Tk.Window user interface.\n",
    "        for field in fields:\n",
    "            self.add_field(name=field, field_break=2)\n",
    "        self.add_listbox()\n",
    "        for i in range(len(buttons)):\n",
    "            self.add_button(name=buttons[i][0], command=buttons[i][1])\n",
    "\n",
    "    def add_field(self, name, field_break=2):\n",
    "        '''\n",
    "        Add an Entry and Label combo to the Window.\n",
    "        '''\n",
    "        # Add a Tk.Label element for this field.\n",
    "        text = '%s: ' % (name.replace('_', ' ').title())\n",
    "        label = tk.Label(master=self.window, text=text, height=2, width=12, anchor=tk.E)\n",
    "        label.grid(row=self.row, column=self.col)\n",
    "        self.col += 1\n",
    "        \n",
    "        # Add a Tk.Entry element for this field.\n",
    "        entry = tk.Entry(master=self.window, textvariable=tk.StringVar(), width=16)\n",
    "        entry.grid(row=self.row, column=self.col)\n",
    "        self.col += 1\n",
    "        \n",
    "        # When field_break has been reached, set the next grid placement to land in column 0 of the next row.\n",
    "        if self.col > (field_break - 1) * 2:\n",
    "            self.col = 0\n",
    "            self.row += 1\n",
    "            \n",
    "        self.lbl[name] = label\n",
    "        self.ent[name] = entry\n",
    "\n",
    "    def add_listbox(self):\n",
    "        '''\n",
    "        Add a Listbox and Scrollbar to the Window.\n",
    "        '''\n",
    "        self.row += 1\n",
    "        self.col = 0\n",
    "        \n",
    "        # Add the Tk.Listbox element.\n",
    "        listbox = tk.Listbox(master=self.window, width=28)\n",
    "        listbox.grid(row=self.row, column=self.col, rowspan=6, columnspan=2, sticky=tk.E)\n",
    "        self.col += 2\n",
    "        \n",
    "        # Add the Tk.Scrollbar element.\n",
    "        scrollbar = tk.Scrollbar(master=self.window)\n",
    "        scrollbar.grid(row=self.row, column=self.col, rowspan=6, sticky=tk.W)\n",
    "        \n",
    "        # Link the listbox with the scrollbar.\n",
    "        listbox.configure(yscrollcommand=scrollbar.set)\n",
    "        scrollbar.configure(command=listbox.yview)\n",
    "\n",
    "        # Bind the listbox to a click-event handler.\n",
    "        listbox.bind(sequence='<<ListboxSelect>>', func=self.get_selected)\n",
    "        \n",
    "        self.col += 1\n",
    "        self.lst = listbox\n",
    "\n",
    "    def add_button(self, name, command):\n",
    "        '''\n",
    "        Add a Button element to the Window.\n",
    "        '''\n",
    "        name = name.replace('_', ' ').title()\n",
    "        button = tk.Button(master=self.window, text=name, width='12', command=command)\n",
    "        button.grid(row=self.row, column=self.col, sticky=tk.E)\n",
    "        self.row += 1\n",
    "        self.btn[name] = button\n",
    "\n",
    "    def get_selected(self, event):\n",
    "        '''\n",
    "        Determine which element of the Listbox has been clicked, if any.\n",
    "        '''\n",
    "        try:\n",
    "            i = 0\n",
    "            index = self.lst.curselection()[i]\n",
    "            self.selected = self.lst.get(index)\n",
    "            \n",
    "            # Populate the Entry elements with the selected Listbox member's data.\n",
    "            for field in self.fields:\n",
    "                i += 1\n",
    "                self.ent[field].delete(0, tk.END)\n",
    "                self.ent[field].insert(tk.END, self.selected[i])\n",
    "                \n",
    "        except IndexError:\n",
    "            return"
   ]
  },
  {
   "cell_type": "markdown",
   "metadata": {},
   "source": [
    "### Information about this notebook:"
   ]
  },
  {
   "cell_type": "code",
   "execution_count": 14,
   "metadata": {},
   "outputs": [
    {
     "name": "stdout",
     "output_type": "stream",
     "text": [
      "Additional notebooks in this application (click to open in a new tab):\n"
     ]
    },
    {
     "data": {
      "text/html": [
       "<a href='db.ipynb' target='_blank'>db.ipynb</a><br>"
      ],
      "text/plain": [
       "/home/zero2cx/projects/the-python-mega-course/App5/db.ipynb"
      ]
     },
     "metadata": {},
     "output_type": "display_data"
    },
    {
     "data": {
      "text/html": [
       "<a href='seed.ipynb' target='_blank'>seed.ipynb</a><br>"
      ],
      "text/plain": [
       "/home/zero2cx/projects/the-python-mega-course/App5/seed.ipynb"
      ]
     },
     "metadata": {},
     "output_type": "display_data"
    },
    {
     "name": "stdout",
     "output_type": "stream",
     "text": [
      "Associated files that contain the seed data (click to download):\n"
     ]
    },
    {
     "data": {
      "text/html": [
       "<a href='./data/books.csv' target='_blank'>./data/books.csv</a><br>"
      ],
      "text/plain": [
       "/home/zero2cx/projects/the-python-mega-course/App5/data/books.csv"
      ]
     },
     "metadata": {},
     "output_type": "display_data"
    },
    {
     "data": {
      "text/html": [
       "<a href='./data/garden.csv' target='_blank'>./data/garden.csv</a><br>"
      ],
      "text/plain": [
       "/home/zero2cx/projects/the-python-mega-course/App5/data/garden.csv"
      ]
     },
     "metadata": {},
     "output_type": "display_data"
    },
    {
     "data": {
      "text/html": [
       "<a href='./data/ledzep.csv' target='_blank'>./data/ledzep.csv</a><br>"
      ],
      "text/plain": [
       "/home/zero2cx/projects/the-python-mega-course/App5/data/ledzep.csv"
      ]
     },
     "metadata": {},
     "output_type": "display_data"
    }
   ],
   "source": [
    "from IPython.display import FileLink\n",
    "\n",
    "print('Additional notebooks in this application (click to open in a new tab):')\n",
    "display(FileLink('db.ipynb'))\n",
    "display(FileLink('seed.ipynb'))\n",
    "\n",
    "print('Associated files that contain the seed data (click to download):')\n",
    "display(FileLink('./data/books.csv'))\n",
    "display(FileLink('./data/garden.csv'))\n",
    "display(FileLink('./data/ledzep.csv'))\n",
    "\n",
    "license = '''\n",
    "This software is licensed under the Gnu GPLv3\n",
    "(c) 2017 David Schenck https://github.com/zero2cx/\n",
    "\n",
    "This program is free software: you can redistribute it and/or modify\n",
    "it under the terms of the GNU General Public License as published by\n",
    "the Free Software Foundation, either version 3 of the License, or\n",
    "(at your option) any later version.\n",
    "\n",
    "This program is distributed in the hope that it will be useful,\n",
    "but WITHOUT ANY WARRANTY; without even the implied warranty of\n",
    "MERCHANTABILITY or FITNESS FOR A PARTICULAR PURPOSE.  See the\n",
    "GNU General Public License for more details.\n",
    "\n",
    "You should have received a copy of the GNU General Public License\n",
    "along with this program.  If not, see <https://www.gnu.org/licenses/>.\n",
    "'''"
   ]
  }
 ],
 "metadata": {
  "kernelspec": {
   "display_name": "Python 3",
   "language": "python",
   "name": "python3"
  },
  "language_info": {
   "codemirror_mode": {
    "name": "ipython",
    "version": 3
   },
   "file_extension": ".py",
   "mimetype": "text/x-python",
   "name": "python",
   "nbconvert_exporter": "python",
   "pygments_lexer": "ipython3",
   "version": "3.6.4"
  }
 },
 "nbformat": 4,
 "nbformat_minor": 2
}
